{
  "nbformat": 4,
  "nbformat_minor": 0,
  "metadata": {
    "colab": {
      "provenance": [],
      "machine_shape": "hm",
      "gpuType": "V100"
    },
    "kernelspec": {
      "name": "python3",
      "display_name": "Python 3"
    },
    "language_info": {
      "name": "python"
    },
    "accelerator": "GPU"
  },
  "cells": [
    {
      "cell_type": "markdown",
      "source": [
        "# Preprocess Data"
      ],
      "metadata": {
        "id": "ildxR3grgzFf"
      }
    },
    {
      "cell_type": "code",
      "source": [
        "import json\n",
        "import numpy as np\n",
        "import cv2\n",
        "import requests\n",
        "from PIL import Image\n",
        "from io import BytesIO\n",
        "import tensorflow as tf\n",
        "from tensorflow.keras.models import Sequential, Model\n",
        "from tensorflow.keras.layers import Dense, Flatten, Conv2D, MaxPooling2D, Input, Layer, Concatenate, Dropout, BatchNormalization\n",
        "from tensorflow.keras.preprocessing.image import ImageDataGenerator\n",
        "from keras.utils import to_categorical\n",
        "import matplotlib.pyplot as plt\n",
        "import matplotlib.patches as patches\n",
        "\n",
        "def extract_pixels_from_url(url):\n",
        "    # Download the image using requests\n",
        "    response = requests.get(url)\n",
        "    if response.status_code != 200:\n",
        "        print(\"Failed to download the image.\")\n",
        "        return None\n",
        "\n",
        "    # Convert the response content to a Bytes stream\n",
        "    image_data = BytesIO(response.content)\n",
        "\n",
        "    # Open the image using PIL\n",
        "    img = Image.open(image_data)\n",
        "\n",
        "    # Convert the image to RGB (if it's not already)\n",
        "    img = img.convert('RGB')\n",
        "\n",
        "    # Get pixel data\n",
        "    pixels = list(img.getdata())\n",
        "\n",
        "    return pixels"
      ],
      "metadata": {
        "id": "L24_fSzegytG"
      },
      "execution_count": 1,
      "outputs": []
    },
    {
      "cell_type": "code",
      "source": [
        "data = []\n",
        "\n",
        "# Open NDJSON file from specified path\n",
        "with open('/content/drive/MyDrive/Data/export-result4.ndjson', 'r') as f:\n",
        "    # Read and parse each line (JSON object) in the file\n",
        "    for line in f:\n",
        "        # Append parsed JSON object to the 'data' list\n",
        "        data.append(json.loads(line))\n",
        "\n",
        "# 'data' now contains all JSON objects from the NDJSON file"
      ],
      "metadata": {
        "id": "rmiqk8vGgyrw"
      },
      "execution_count": 2,
      "outputs": []
    },
    {
      "cell_type": "code",
      "source": [
        "processed_data = []\n",
        "\n",
        "# Iterate through each item in the 'data' list\n",
        "for item in data:\n",
        "    # Extract image file name, URL, dimensions, and dataset name\n",
        "    image_file = item['data_row']['external_id']\n",
        "    image_url = item['data_row']['row_data']\n",
        "    image_height = item['media_attributes']['height']\n",
        "    image_width = item['media_attributes']['width']\n",
        "    original_dataset = item['data_row']['details']['dataset_name']\n",
        "\n",
        "    # Initialize lists to store objects and classifications in the image\n",
        "    objects = []\n",
        "    classifications = []\n",
        "\n",
        "    # Check if there are labels (annotations) for the current item\n",
        "    if item['projects']['clna8cr1l0i0107z19feu8tpt']['labels']:\n",
        "        # Extract object annotations (like bounding boxes and names)\n",
        "        for x in item['projects']['clna8cr1l0i0107z19feu8tpt']['labels'][0]['annotations']['objects']:\n",
        "            objects.append((x['name'], x['bounding_box']))\n",
        "\n",
        "        # Extract classifications (like radio answers or checklist answers)\n",
        "        for y in item['projects']['clna8cr1l0i0107z19feu8tpt']['labels'][0]['annotations']['classifications']:\n",
        "            if 'radio_answer' in y:\n",
        "                classifications.append((y['name'], y['radio_answer']['name']))\n",
        "            elif 'checklist_answers' in y:\n",
        "                for z in y['checklist_answers']:\n",
        "                    classifications.append((y['name'], z['name']))\n",
        "\n",
        "    # Append the processed information for each image to 'processed_data'\n",
        "    processed_data.append({\n",
        "        'image_file': image_file,\n",
        "        'image_pixels': extract_pixels_from_url(image_url),\n",
        "        'image_height': image_height,\n",
        "        'image_width': image_width,\n",
        "        'original_dataset': original_dataset,\n",
        "        'objects': objects,\n",
        "        'classifications': classifications,\n",
        "    })\n"
      ],
      "metadata": {
        "id": "xS-uycEHgype"
      },
      "execution_count": 3,
      "outputs": []
    },
    {
      "cell_type": "code",
      "source": [
        "train_damage = []\n",
        "train_no_damage = []\n",
        "val = []\n",
        "test = []\n",
        "\n",
        "# Split processed data into 4 datasets\n",
        "for item in processed_data:\n",
        "    if item['original_dataset'] == 'Test':\n",
        "        test.append(item)\n",
        "    elif item['original_dataset'] == 'No Damage':\n",
        "        train_no_damage.append(item)\n",
        "    elif item['original_dataset'] == 'Train':\n",
        "        train_damage.append(item)\n",
        "    elif item['original_dataset'] == 'Validate':\n",
        "        val.append(item)"
      ],
      "metadata": {
        "id": "t8j7sRxZhI0v"
      },
      "execution_count": 4,
      "outputs": []
    },
    {
      "cell_type": "markdown",
      "source": [
        "# Exterior Damage Localization"
      ],
      "metadata": {
        "id": "HiF7ZXIFg4vC"
      }
    },
    {
      "cell_type": "code",
      "source": [
        "# Dictionary mapping specific parts of a vehicle's exterior to numerical classes.\n",
        "# This is used for categorizing different areas of a vehicle, such as the front end, sides, rear end, etc.\n",
        "exterior_location_class_map = {\n",
        "    \"Front End (front bumper, hood, front grille, front fenders, front lights, front windshield)\": 1,\n",
        "    \"Sides (doors, side mirrors, side fenders, windows, side skirts, pillars)\": 2,\n",
        "    \"Rear end (rear bumper, trunk lid, tailgate, rear lights, rear windshield, rear spoiler)\": 3,\n",
        "    \"Roof (roof panel, sunroof, roof rails)\": 4,\n",
        "    \"Undercarriage (front and rear axles, exhaust system, chassis/frame)\": 5,\n",
        "    \"Wheels and tires (alloy rims, wheel covers, tires)\": 6\n",
        "}\n",
        "\n",
        "# Dictionary mapping types of damage or conditions found on vehicles to numerical classes.\n",
        "# Useful for categorizing common vehicle damages like dents, scratches, broken glass, etc.\n",
        "object_class_map = {\n",
        "    \"Dent\": 1,\n",
        "    \"Scratch/Scuff/Chip\": 2,\n",
        "    \"Broken Glass\": 3,\n",
        "    \"Headlight broken\": 4,\n",
        "    \"Taillight broken\": 5,\n",
        "    \"Smash\": 6,\n",
        "    \"Rust\": 7,\n",
        "    \"Puncture\": 8\n",
        "}\n"
      ],
      "metadata": {
        "id": "bdWoed6cgynh"
      },
      "execution_count": 5,
      "outputs": []
    },
    {
      "cell_type": "code",
      "source": [
        "def preprocess_data(data_list, image_shape=(1024, 1024, 3), obj_classification_map=object_class_map, ext_classification_map=exterior_location_class_map):\n",
        "    # Initialize lists to store processed images, bounding boxes, and classes.\n",
        "    images = []\n",
        "    boxes = []\n",
        "    box_classes = []\n",
        "    classifications = []\n",
        "\n",
        "    for data in data_list:\n",
        "        # Reshape image pixel data to the specified image shape.\n",
        "        image = np.array(data['image_pixels']).reshape(data['image_height'], data['image_width'], 3)\n",
        "        images.append(image)\n",
        "\n",
        "        bounding_boxes = []\n",
        "        ext_location = []\n",
        "        object_classes = []\n",
        "\n",
        "        # Process each object annotation in the data.\n",
        "        for obj, box in data['objects']:\n",
        "            # Normalize bounding box coordinates and append to list.\n",
        "            normalized_box = [box['top'] / image_shape[0], box['left'] / image_shape[1],\n",
        "                              (box['top'] + box['height']) / image_shape[0],\n",
        "                              (box['left'] + box['width']) / image_shape[1]]\n",
        "            bounding_boxes.append(normalized_box)\n",
        "            # Map object names to corresponding classes.\n",
        "            object_classes.append(obj_classification_map.get(obj, -1))\n",
        "\n",
        "        # Process each classification in the data.\n",
        "        for category, value in data['classifications']:\n",
        "            if category == 'Exterior Location':\n",
        "                # Map exterior location names to corresponding classes.\n",
        "                ext_location.append(ext_classification_map.get(value, -1))\n",
        "\n",
        "        # Append processed data to respective lists.\n",
        "        boxes.append(np.array(bounding_boxes, dtype=np.float64))\n",
        "        classifications.append(np.array(ext_location))\n",
        "        box_classes.append(np.array(object_classes))\n",
        "\n",
        "    # Return arrays of processed images, bounding boxes, box classes, and classifications.\n",
        "    return np.array(images), np.array(boxes), np.array(box_classes), np.array(classifications)\n",
        "\n",
        "def pad_classes(input):\n",
        "    # Convert input to numpy array and ensure each element is a list.\n",
        "    my_array = np.array([list(item) for item in np.array(input)])\n",
        "\n",
        "    # Find maximum length of lists in array.\n",
        "    max_length = max(len(item) for item in my_array)\n",
        "\n",
        "    # Pad each list in array to maximum length.\n",
        "    padded_array = np.array([item + [0] * (max_length - len(item)) for item in my_array])\n",
        "\n",
        "    return padded_array\n",
        "\n",
        "def pad_boxes(arrays, pad_value=0):\n",
        "    # Determine maximum dimensions across all arrays.\n",
        "    max_rows = max(array.shape[0] for array in arrays)\n",
        "    max_cols = max(array.shape[1] for array in arrays)\n",
        "\n",
        "    # Pad each array to the maximum dimensions.\n",
        "    padded_arrays = []\n",
        "    for array in arrays:\n",
        "        padding = ((0, max_rows - array.shape[0]),\n",
        "                   (0, max_cols - array.shape[1]))\n",
        "        padded_array = np.pad(array, padding, mode='constant', constant_values=pad_value)\n",
        "        padded_arrays.append(padded_array)\n",
        "\n",
        "    return padded_arrays\n"
      ],
      "metadata": {
        "id": "yCIWknTwgylB"
      },
      "execution_count": 6,
      "outputs": []
    },
    {
      "cell_type": "code",
      "source": [
        "# Preprocess the training data:\n",
        "train_images, train_boxes, train_box_classes, train_ext_classes = preprocess_data(data_list=train_damage)\n",
        "\n",
        "# Preprocess the testing data:\n",
        "test_images, test_boxes, test_box_classes, test_ext_classes = preprocess_data(data_list=test)\n"
      ],
      "metadata": {
        "colab": {
          "base_uri": "https://localhost:8080/"
        },
        "id": "fUOUHgbggyi_",
        "outputId": "39427f0d-c730-4a70-b5df-759ca3f0f518"
      },
      "execution_count": 7,
      "outputs": [
        {
          "output_type": "stream",
          "name": "stderr",
          "text": [
            "<ipython-input-6-8ccf7790fa3e>:39: VisibleDeprecationWarning: Creating an ndarray from ragged nested sequences (which is a list-or-tuple of lists-or-tuples-or ndarrays with different lengths or shapes) is deprecated. If you meant to do this, you must specify 'dtype=object' when creating the ndarray.\n",
            "  return np.array(images), np.array(boxes), np.array(box_classes), np.array(classifications)\n"
          ]
        }
      ]
    },
    {
      "cell_type": "code",
      "source": [
        "# Padding datasets so the tensors are the same size\n",
        "padded_train_boxes = pad_boxes(train_boxes)\n",
        "padded_train_box_classes = pad_classes(train_box_classes)\n",
        "padded_train_ext_classes = pad_classes(train_ext_classes)"
      ],
      "metadata": {
        "colab": {
          "base_uri": "https://localhost:8080/"
        },
        "id": "RhNjzKaghPwk",
        "outputId": "270a040e-d04b-4383-e6cc-76aa1c862ac2"
      },
      "execution_count": 8,
      "outputs": [
        {
          "output_type": "stream",
          "name": "stderr",
          "text": [
            "<ipython-input-6-8ccf7790fa3e>:43: VisibleDeprecationWarning: Creating an ndarray from ragged nested sequences (which is a list-or-tuple of lists-or-tuples-or ndarrays with different lengths or shapes) is deprecated. If you meant to do this, you must specify 'dtype=object' when creating the ndarray.\n",
            "  my_array = np.array([list(item) for item in np.array(input)])\n"
          ]
        }
      ]
    },
    {
      "cell_type": "code",
      "source": [
        "# Convert the training images to a TensorFlow tensor and normalize pixel values to range [0, 1].\n",
        "tensor_train_images = tf.convert_to_tensor(train_images) / 255\n",
        "\n",
        "# Convert the test images to a TensorFlow tensor and normalize pixel values to range [0, 1].\n",
        "tensor_test_images = tf.convert_to_tensor(test_images) / 255\n",
        "\n",
        "# Convert the preprocessed and padded training bounding boxes, box classes, and exterior classes to TensorFlow tensors.\n",
        "tensor_train_boxes = tf.convert_to_tensor(padded_train_boxes)\n",
        "tensor_train_box_classes = tf.convert_to_tensor(padded_train_box_classes)\n",
        "tensor_train_ext_classes = tf.convert_to_tensor(padded_train_ext_classes)\n",
        "\n",
        "# Flatten the train_boxes tensor into a 2D tensor for model input or other processing.\n",
        "# This changes the shape from [num_samples, num_boxes, box_dimensions] to [num_samples, num_boxes * box_dimensions].\n",
        "flattened_train_boxes = tf.reshape(tensor_train_boxes, [tensor_train_boxes.shape[0], -1])\n"
      ],
      "metadata": {
        "id": "hvb-eSdEhPrn"
      },
      "execution_count": 9,
      "outputs": []
    },
    {
      "cell_type": "code",
      "source": [
        "def create_model(input_shape=(1024, 1024, 3)):\n",
        "    # Define the input layer with the specified shape.\n",
        "    inputs = Input(shape=input_shape)\n",
        "\n",
        "    # Add convolutional and pooling layers, with dropout for regularization.\n",
        "    x = Conv2D(32, (3, 3), activation='relu')(inputs)\n",
        "    x = MaxPooling2D(pool_size=(2, 2))(x)\n",
        "    x = Dropout(0.25)(x)\n",
        "\n",
        "    # Repeating the pattern of Convolution -> Pooling -> Dropout.\n",
        "    x = Conv2D(64, (3, 3), activation='relu')(x)\n",
        "    x = MaxPooling2D(pool_size=(2, 2))(x)\n",
        "    x = Dropout(0.25)(x)\n",
        "\n",
        "    x = Conv2D(128, (3, 3), activation='relu')(x)\n",
        "    x = MaxPooling2D(pool_size=(2, 2))(x)\n",
        "    x = Dropout(0.25)(x)\n",
        "\n",
        "    # Flatten the output and pass through dense layers.\n",
        "    x = Flatten()(x)\n",
        "    x = Dense(128, activation='relu')(x)\n",
        "    x = Dropout(0.5)(x)\n",
        "\n",
        "    # Define output layers for different types of predictions.\n",
        "    box_classes = Dense(11, activation='softmax', name='box_classes')(x)\n",
        "    ext_classes = Dense(3, activation='softmax', name='ext_classes')(x)\n",
        "    boxes = Dense(44, name='boxes')(x)  # Output layer for bounding boxes\n",
        "\n",
        "    # Assemble the model with the defined layers.\n",
        "    model = Model(inputs=inputs, outputs=[box_classes, ext_classes, boxes])\n",
        "\n",
        "    return model\n",
        "\n",
        "# Instantiate the model\n",
        "model = create_model()\n",
        "\n",
        "# Compile the model with appropriate loss functions and metrics for each output.\n",
        "model.compile(\n",
        "    optimizer='adam',\n",
        "    loss={'box_classes': 'categorical_crossentropy',\n",
        "          'ext_classes': 'categorical_crossentropy',\n",
        "          'boxes': 'mean_squared_error'},\n",
        "    metrics={'box_classes': ['accuracy'],\n",
        "             'ext_classes': ['accuracy'],\n",
        "             'boxes': ['mean_squared_error']}\n",
        ")\n",
        "\n",
        "# Train the model using the preprocessed training data.\n",
        "history = model.fit(tensor_train_images, [tensor_train_box_classes, tensor_train_ext_classes, flattened_train_boxes],\n",
        "                    batch_size=16,\n",
        "                    epochs=10)\n"
      ],
      "metadata": {
        "colab": {
          "base_uri": "https://localhost:8080/"
        },
        "id": "pq0m_76_hRYP",
        "outputId": "831b143b-d6de-41d0-f6d6-be08500bd859"
      },
      "execution_count": 10,
      "outputs": [
        {
          "output_type": "stream",
          "name": "stdout",
          "text": [
            "Epoch 1/10\n",
            "4/4 [==============================] - 17s 427ms/step - loss: 6639.2690 - box_classes_loss: 1148.9462 - ext_classes_loss: 85.1444 - boxes_loss: 5405.1782 - box_classes_accuracy: 0.1250 - ext_classes_accuracy: 0.2969 - boxes_mean_squared_error: 5405.1782\n",
            "Epoch 2/10\n",
            "4/4 [==============================] - 2s 420ms/step - loss: 213.0968 - box_classes_loss: 126.5160 - ext_classes_loss: 14.7810 - boxes_loss: 71.7999 - box_classes_accuracy: 0.1562 - ext_classes_accuracy: 0.6094 - boxes_mean_squared_error: 71.7999\n",
            "Epoch 3/10\n",
            "4/4 [==============================] - 2s 419ms/step - loss: 44.2321 - box_classes_loss: 37.1766 - ext_classes_loss: 1.9123 - boxes_loss: 5.1431 - box_classes_accuracy: 0.1406 - ext_classes_accuracy: 0.7969 - boxes_mean_squared_error: 5.1431\n",
            "Epoch 4/10\n",
            "4/4 [==============================] - 2s 415ms/step - loss: 38.7629 - box_classes_loss: 31.9994 - ext_classes_loss: 3.0360 - boxes_loss: 3.7276 - box_classes_accuracy: 0.1719 - ext_classes_accuracy: 0.7969 - boxes_mean_squared_error: 3.7276\n",
            "Epoch 5/10\n",
            "4/4 [==============================] - 2s 416ms/step - loss: 54.2761 - box_classes_loss: 38.7522 - ext_classes_loss: 4.9998 - boxes_loss: 10.5242 - box_classes_accuracy: 0.3125 - ext_classes_accuracy: 0.5938 - boxes_mean_squared_error: 10.5242\n",
            "Epoch 6/10\n",
            "4/4 [==============================] - 2s 414ms/step - loss: 156.5388 - box_classes_loss: 91.4264 - ext_classes_loss: 11.7209 - boxes_loss: 53.3915 - box_classes_accuracy: 0.2344 - ext_classes_accuracy: 0.5781 - boxes_mean_squared_error: 53.3915\n",
            "Epoch 7/10\n",
            "4/4 [==============================] - 2s 412ms/step - loss: 269.9849 - box_classes_loss: 122.6203 - ext_classes_loss: 16.0115 - boxes_loss: 131.3531 - box_classes_accuracy: 0.1875 - ext_classes_accuracy: 0.6406 - boxes_mean_squared_error: 131.3531\n",
            "Epoch 8/10\n",
            "4/4 [==============================] - 2s 416ms/step - loss: 210.6540 - box_classes_loss: 106.6053 - ext_classes_loss: 11.1173 - boxes_loss: 92.9314 - box_classes_accuracy: 0.1719 - ext_classes_accuracy: 0.6562 - boxes_mean_squared_error: 92.9314\n",
            "Epoch 9/10\n",
            "4/4 [==============================] - 2s 410ms/step - loss: 207.5437 - box_classes_loss: 114.6255 - ext_classes_loss: 14.1751 - boxes_loss: 78.7431 - box_classes_accuracy: 0.3281 - ext_classes_accuracy: 0.6875 - boxes_mean_squared_error: 78.7431\n",
            "Epoch 10/10\n",
            "4/4 [==============================] - 2s 411ms/step - loss: 327.3674 - box_classes_loss: 152.3616 - ext_classes_loss: 23.2440 - boxes_loss: 151.7618 - box_classes_accuracy: 0.3438 - ext_classes_accuracy: 0.4688 - boxes_mean_squared_error: 151.7618\n"
          ]
        }
      ]
    },
    {
      "cell_type": "code",
      "source": [
        "# Save the Model\n",
        "# model.save('/content/drive/MyDrive/Models/ext_damage_localization_model.keras')"
      ],
      "metadata": {
        "id": "U7Sxj_uXhVfS"
      },
      "execution_count": 11,
      "outputs": []
    },
    {
      "cell_type": "code",
      "source": [
        "# Display the Model Summary\n",
        "# model.summary()"
      ],
      "metadata": {
        "id": "QXWnKKucSSAe"
      },
      "execution_count": 12,
      "outputs": []
    },
    {
      "cell_type": "code",
      "source": [
        "import matplotlib.pyplot as plt\n",
        "\n",
        "# Assume 'history' is the object returned by the 'fit' method of your model\n",
        "loss = history.history['loss']\n",
        "\n",
        "epochs = range(1, len(loss) + 1)\n",
        "\n",
        "# Plot training and validation loss as lines\n",
        "plt.figure()\n",
        "plt.plot(epochs, loss, 'b-', label='Training loss')  # 'b-' gives blue color with solid line\n",
        "plt.title('Training Loss')\n",
        "plt.xlabel('Epochs')\n",
        "plt.ylabel('Loss')\n",
        "plt.legend()\n",
        "\n",
        "plt.show()\n"
      ],
      "metadata": {
        "colab": {
          "base_uri": "https://localhost:8080/",
          "height": 472
        },
        "id": "JFs-_pK0j7Jx",
        "outputId": "c606084e-8480-47e6-c026-ebee5dd184a7"
      },
      "execution_count": 13,
      "outputs": [
        {
          "output_type": "display_data",
          "data": {
            "text/plain": [
              "<Figure size 640x480 with 1 Axes>"
            ],
            "image/png": "[encoded data removed]"
          },
          "metadata": {}
        }
      ]
    },
    {
      "cell_type": "markdown",
      "source": [
        "# Exterior Damage Severity"
      ],
      "metadata": {
        "id": "M2jPL-GKg7il"
      }
    },
    {
      "cell_type": "code",
      "source": [
        "# Define class map for severity\n",
        "severity_class_map = {\n",
        "    'No Damage': 0,\n",
        "    'Minor Damage': 1,\n",
        "    'Moderate Damage': 2,\n",
        "    'Major Damage': 3,\n",
        "    'Totaled': 4\n",
        "}"
      ],
      "metadata": {
        "id": "KGsXk-uqgygx"
      },
      "execution_count": 5,
      "outputs": []
    },
    {
      "cell_type": "code",
      "source": [
        "def preprocess_data(data_list, image_shape=(1024, 1024, 3), severity_classification_map=severity_class_map):\n",
        "    # Initialize lists for storing processed images and classifications.\n",
        "    images = []\n",
        "    classifications = []\n",
        "\n",
        "    # Loop through each item in the data list.\n",
        "    for data in data_list:\n",
        "        # Convert image pixel data to numpy array and reshape according to specified image shape.\n",
        "        image = np.array(data['image_pixels']).reshape(data['image_height'], data['image_width'], 3)\n",
        "        images.append(image)  # Add processed image to the images list.\n",
        "\n",
        "        ext_severity = []  # List to store severity classifications.\n",
        "\n",
        "        # Process classifications in the data.\n",
        "        for classification, value in data['classifications']:\n",
        "            # Check for 'Exterior Damage Severity' classification and map its value.\n",
        "            if classification == 'Exterior Damage Severity':\n",
        "                ext_severity.append(severity_class_map.get(value, 0))\n",
        "\n",
        "        # Append processed severity classifications to the classifications list.\n",
        "        classifications.append(np.array(ext_severity))\n",
        "\n",
        "    # Return the processed images and classifications as numpy arrays.\n",
        "    return np.array(images), np.array(classifications)\n"
      ],
      "metadata": {
        "id": "5H95b_yfgyeg"
      },
      "execution_count": 6,
      "outputs": []
    },
    {
      "cell_type": "code",
      "source": [
        "# Process training data using the 'preprocess_data' function to get images and exterior severity classes.\n",
        "train_images, train_ext_sev_classes = preprocess_data(data_list=train_damage)\n",
        "\n",
        "# Process testing data using the same function to get images and exterior severity classes.\n",
        "test_images, test_ext_sev_classes = preprocess_data(data_list=test)\n",
        "\n",
        "# Convert the training images to TensorFlow tensors and normalize their pixel values to the range [0, 1].\n",
        "tensor_train_images = tf.convert_to_tensor(train_images) / 255\n",
        "\n",
        "# Convert the testing images to TensorFlow tensors and normalize their pixel values to the range [0, 1].\n",
        "tensor_test_images = tf.convert_to_tensor(test_images) / 255\n",
        "\n",
        "# Convert the training exterior severity classes to TensorFlow tensors.\n",
        "tensor_train_ext_sev_classes = tf.convert_to_tensor(train_ext_sev_classes)\n"
      ],
      "metadata": {
        "id": "b3XN18ACgycK"
      },
      "execution_count": 7,
      "outputs": []
    },
    {
      "cell_type": "code",
      "source": [
        "def create_severity_model(input_shape=(1024, 1024, 3)):\n",
        "    # Define the input layer of the model with the specified shape.\n",
        "    input_tensor = Input(shape=input_shape)\n",
        "\n",
        "    # Add convolutional layers with MaxPooling and ReLU activation.\n",
        "    x = Conv2D(32, (3, 3), activation='relu')(input_tensor)\n",
        "    x = MaxPooling2D(2, 2)(x)\n",
        "    x = Conv2D(64, (3, 3), activation='relu')(x)\n",
        "    x = MaxPooling2D(2, 2)(x)\n",
        "    x = Conv2D(128, (3, 3), activation='relu')(x)\n",
        "    x = MaxPooling2D(2, 2)(x)\n",
        "\n",
        "    # Flatten the output and pass it through dense layers.\n",
        "    x = Flatten()(x)\n",
        "    x = Dense(128, activation='relu')(x)\n",
        "    x = Dropout(0.5)(x)\n",
        "    # Final output layer with softmax activation for classification.\n",
        "    output = Dense(5, activation='softmax')(x)\n",
        "\n",
        "    # Create the model object with input and output configurations.\n",
        "    model = Model(inputs=input_tensor, outputs=output)\n",
        "\n",
        "    return model\n",
        "\n",
        "# Create the severity model instance.\n",
        "ext_severity_model = create_severity_model()\n",
        "\n",
        "# Compile the model with Adam optimizer, categorical crossentropy loss, and track accuracy.\n",
        "ext_severity_model.compile(\n",
        "    optimizer='adam',\n",
        "    loss='sparse_categorical_crossentropy',\n",
        "    metrics=['accuracy']\n",
        ")\n",
        "\n",
        "# Train the model with the training images and their corresponding severity classes.\n",
        "history = ext_severity_model.fit(\n",
        "    tensor_train_images,\n",
        "    tensor_train_ext_sev_classes,\n",
        "    epochs=10,        # Specifies the number of training epochs.\n",
        "    batch_size=16,    # Specifies the batch size for training.\n",
        ")\n"
      ],
      "metadata": {
        "colab": {
          "base_uri": "https://localhost:8080/"
        },
        "id": "VAyWnQD5heAq",
        "outputId": "2de35204-537e-4819-9f3e-a8a14385ee47"
      },
      "execution_count": 8,
      "outputs": [
        {
          "output_type": "stream",
          "name": "stdout",
          "text": [
            "Epoch 1/10\n",
            "4/4 [==============================] - 14s 254ms/step - loss: 29.3241 - accuracy: 0.4531\n",
            "Epoch 2/10\n",
            "4/4 [==============================] - 1s 255ms/step - loss: 3.4285 - accuracy: 0.5625\n",
            "Epoch 3/10\n",
            "4/4 [==============================] - 1s 253ms/step - loss: 1.4716 - accuracy: 0.4844\n",
            "Epoch 4/10\n",
            "4/4 [==============================] - 1s 252ms/step - loss: 0.7992 - accuracy: 0.7031\n",
            "Epoch 5/10\n",
            "4/4 [==============================] - 1s 254ms/step - loss: 0.9440 - accuracy: 0.7188\n",
            "Epoch 6/10\n",
            "4/4 [==============================] - 1s 256ms/step - loss: 0.5527 - accuracy: 0.9062\n",
            "Epoch 7/10\n",
            "4/4 [==============================] - 1s 254ms/step - loss: 0.3657 - accuracy: 0.8750\n",
            "Epoch 8/10\n",
            "4/4 [==============================] - 1s 252ms/step - loss: 0.1996 - accuracy: 0.9531\n",
            "Epoch 9/10\n",
            "4/4 [==============================] - 1s 251ms/step - loss: 0.0935 - accuracy: 0.9688\n",
            "Epoch 10/10\n",
            "4/4 [==============================] - 1s 251ms/step - loss: 0.1397 - accuracy: 0.9531\n"
          ]
        }
      ]
    },
    {
      "cell_type": "code",
      "source": [
        "# Save the Model\n",
        "# ext_severity_model.save('/content/drive/MyDrive/Models/ext_damage_severity_model.keras')"
      ],
      "metadata": {
        "id": "xhH5etZRhf0-"
      },
      "execution_count": 9,
      "outputs": []
    },
    {
      "cell_type": "code",
      "source": [
        "# Display Model Summary\n",
        "# ext_severity_model.summary()"
      ],
      "metadata": {
        "id": "DEXa-JjsTFwK"
      },
      "execution_count": 10,
      "outputs": []
    },
    {
      "cell_type": "code",
      "source": [
        "import matplotlib.pyplot as plt\n",
        "\n",
        "# Assume 'history' is the object returned by the 'fit' method of your model\n",
        "loss = history.history['loss']\n",
        "\n",
        "\n",
        "epochs = range(1, len(loss) + 1)\n",
        "\n",
        "# Plot training and validation loss as lines\n",
        "plt.figure()\n",
        "plt.plot(epochs, loss, 'b-', label='Training loss')  # 'b-' gives blue color with solid line\n",
        "plt.title('Training Loss')\n",
        "plt.xlabel('Epochs')\n",
        "plt.ylabel('Loss')\n",
        "plt.legend()\n",
        "\n",
        "plt.show()\n"
      ],
      "metadata": {
        "colab": {
          "base_uri": "https://localhost:8080/",
          "height": 472
        },
        "id": "yHgnsTfkpv2Y",
        "outputId": "845b12de-a55e-463d-a55d-92d30208ddd1"
      },
      "execution_count": 11,
      "outputs": [
        {
          "output_type": "display_data",
          "data": {
            "text/plain": [
              "<Figure size 640x480 with 1 Axes>"
            ],
            "image/png": "[encoded data removed]"
          },
          "metadata": {}
        }
      ]
    },
    {
      "cell_type": "markdown",
      "source": [
        "# Interior Damage Location and Severity"
      ],
      "metadata": {
        "id": "RIxrzw0KhAt6"
      }
    },
    {
      "cell_type": "code",
      "source": [
        "# Define class maps for severity, exterior location, and interior regions affected\n",
        "int_sev_class_map = {\n",
        "    'No Damage': 0,\n",
        "    'Minor Damage': 1,\n",
        "    'Moderate Damage': 2,\n",
        "    'Major Damage': 3,\n",
        "    'Totaled': 4\n",
        "}\n",
        "\n",
        "interior_regions_class_map = {\n",
        "    'Dashboard Area (Instrument panel, center console, globe compartment)': 1,\n",
        "    'Front Area (driver\\'s seat, passenger seat, gear shift, pedals, steering wheel and column, footwells)': 2,\n",
        "    'Middle Area (rear seats, center armrest, floor console)': 3,\n",
        "    'Storage and Utility (door pockets, cup holders, rear parcel shelf, boot/trunk)': 4,\n",
        "    'Roof Area ( sun visors, rearview mirror, sunroof, roof lining, grab handles)': 5,\n",
        "    'Rear area (backseat pockets, rear air vents, rear center console)': 6,\n",
        "    'Miscellaneous (lighting, ports and outlets, controls)': 7,\n",
        "    'Engine compartment (engine, radiator, battery, air filter, fuse box)': 8,\n",
        "    'Transmission and Drivetrain (transmission, drive shaft, differential, axles)': 9,\n",
        "    'Exhaust system (exhaust manifold, catalytic converter, muffler, exhaust pipe)': 10,\n",
        "    'Fuel System (fuel tank, fuel pump, fuel injectors)': 11,\n",
        "    'Brake system (brake pedal, master cylinder, brake pads, rotors, brake calipers)': 12,\n",
        "    'Suspension and steering (shock absorbers/struts, springs, control arms, steering rack and pinion)': 13,\n",
        "    'electrical system (alternator, starter motor, wiring harness)': 14,\n",
        "    'climate system (air conditioning compressor, heater core, blower motor)': 15,\n",
        "    'Body and frame (chasis, frame, body panels)': 16\n",
        "}"
      ],
      "metadata": {
        "id": "fJuWZZD8hDhs"
      },
      "execution_count": 5,
      "outputs": []
    },
    {
      "cell_type": "code",
      "source": [
        "def preprocess_data(data_list, image_shape=(1024, 1024, 3), int_sev_map=int_sev_class_map, int_classification_map=interior_regions_class_map):\n",
        "    # Initialize lists to store images and their associated classifications.\n",
        "    images = []\n",
        "    sev_classes = []  # Severity classes.\n",
        "    classifications = []  # Interior region classifications.\n",
        "\n",
        "    # Iterate through each data item in the provided list.\n",
        "    for data in data_list:\n",
        "        # Reshape image data and append to the images list.\n",
        "        image = np.array(data['image_pixels']).reshape(data['image_height'], data['image_width'], 3)\n",
        "        images.append(image)\n",
        "\n",
        "        int_sev = []  # List for storing interior severity classifications.\n",
        "        int_location = []  # List for storing interior location classifications.\n",
        "\n",
        "        # Process each classification in the data.\n",
        "        for category, value in data['classifications']:\n",
        "            # Map interior region classification to its corresponding integer value.\n",
        "            if category == 'Potential Interior Regions Affected':\n",
        "                int_location.append(int_classification_map.get(value, -1))\n",
        "\n",
        "        # Map interior damage severity to its corresponding integer value.\n",
        "        for classification, value in data['classifications']:\n",
        "            if classification == 'Interior Damage Severity':\n",
        "                int_sev.append(int_sev_map.get(value, 0))\n",
        "\n",
        "        # Append processed classifications to respective lists.\n",
        "        classifications.append(np.array(int_location))\n",
        "        sev_classes.append(np.array(int_sev))\n",
        "\n",
        "    # Return the processed images, severity classes, and classifications as numpy arrays.\n",
        "    return np.array(images), np.array(sev_classes), np.array(classifications)\n",
        "\n",
        "def pad_classes(input):\n",
        "    # Convert the input list to a numpy array ensuring each element is a list.\n",
        "    my_array = np.array([list(item) for item in np.array(input)])\n",
        "\n",
        "    # Determine the maximum length among the lists.\n",
        "    max_length = max(len(item) for item in my_array)\n",
        "\n",
        "    # Pad each list in the array to the maximum length with zeros.\n",
        "    padded_array = np.array([item + [0] * (max_length - len(item)) for item in my_array])\n",
        "\n",
        "    return padded_array\n"
      ],
      "metadata": {
        "id": "a_E_qf3_gyZ4"
      },
      "execution_count": 6,
      "outputs": []
    },
    {
      "cell_type": "code",
      "execution_count": 7,
      "metadata": {
        "colab": {
          "base_uri": "https://localhost:8080/"
        },
        "id": "6El70gtzggZV",
        "outputId": "ba8b2171-a022-44b4-ac6c-d2fae7dc096d"
      },
      "outputs": [
        {
          "output_type": "stream",
          "name": "stderr",
          "text": [
            "<ipython-input-6-6c40cbdac61a>:32: VisibleDeprecationWarning: Creating an ndarray from ragged nested sequences (which is a list-or-tuple of lists-or-tuples-or ndarrays with different lengths or shapes) is deprecated. If you meant to do this, you must specify 'dtype=object' when creating the ndarray.\n",
            "  return np.array(images), np.array(sev_classes), np.array(classifications)\n",
            "<ipython-input-6-6c40cbdac61a>:36: VisibleDeprecationWarning: Creating an ndarray from ragged nested sequences (which is a list-or-tuple of lists-or-tuples-or ndarrays with different lengths or shapes) is deprecated. If you meant to do this, you must specify 'dtype=object' when creating the ndarray.\n",
            "  my_array = np.array([list(item) for item in np.array(input)])\n"
          ]
        }
      ],
      "source": [
        "# Process the training and test datasets using the 'preprocess_data' function.\n",
        "# This extracts images, interior severity classes, and interior locations.\n",
        "train_images, train_int_sev_classes, train_int_locations = preprocess_data(data_list=train_damage)\n",
        "test_images, test_int_sev_classes, test_int_locations = preprocess_data(data_list=test)\n",
        "\n",
        "# Pad the training interior location data for uniformity in tensor size.\n",
        "padded_train_int_locations = pad_classes(train_int_locations)\n",
        "\n",
        "# Convert the training and test images into TensorFlow tensors and normalize them.\n",
        "tensor_train_images = tf.convert_to_tensor(train_images) / 255\n",
        "tensor_test_images = tf.convert_to_tensor(test_images) / 255\n",
        "\n",
        "# Convert the training interior severity classes to one-hot encoded format.\n",
        "train_int_sev_classes_one_hot = to_categorical(train_int_sev_classes, num_classes=5)\n",
        "\n",
        "# Convert the padded training interior location classes to a TensorFlow tensor.\n",
        "tensor_train_int_classes = tf.convert_to_tensor(padded_train_int_locations)\n"
      ]
    },
    {
      "cell_type": "code",
      "source": [
        "def transform_to_binary_matrix(labels, num_classes=16):\n",
        "    # Initialize a matrix of zeros with a shape based on the number of labels and the number of classes.\n",
        "    binary_matrix = np.zeros((len(labels), num_classes))\n",
        "\n",
        "    # Iterate over each set of labels in the provided labels list.\n",
        "    for i, label_set in enumerate(labels):\n",
        "        # Iterate through each label in the current set of labels.\n",
        "        for label in label_set:\n",
        "            # Check if label is greater than 0 (assuming 0 means 'no class').\n",
        "            if label > 0:\n",
        "                # Set the corresponding position in the matrix to 1.\n",
        "                # Adjust index by subtracting 1 as classes are 1-indexed.\n",
        "                binary_matrix[i, label - 1] = 1\n",
        "\n",
        "    # Return the binary matrix representing the label data.\n",
        "    return binary_matrix\n",
        "\n",
        "# Apply the function to transform the training and test interior location data into binary matrices.\n",
        "train_int_locations_binary = transform_to_binary_matrix(train_int_locations)\n",
        "test_int_locations_binary = transform_to_binary_matrix(test_int_locations)\n"
      ],
      "metadata": {
        "id": "xsIrffJPhl3g"
      },
      "execution_count": 8,
      "outputs": []
    },
    {
      "cell_type": "code",
      "source": [
        "def create_model(input_shape=(1024, 1024, 3)):\n",
        "    # Define the input layer of the model with the specified shape.\n",
        "    inputs = Input(shape=input_shape)\n",
        "\n",
        "    # Add convolutional layers with MaxPooling and ReLU activation.\n",
        "    x = Conv2D(32, (3, 3), activation='relu')(inputs)\n",
        "    x = MaxPooling2D(pool_size=(2, 2))(x)\n",
        "\n",
        "    # Repeating the pattern of Convolution -> Pooling -> ReLU activation.\n",
        "    x = Conv2D(64, (3, 3), activation='relu')(x)\n",
        "    x = MaxPooling2D(pool_size=(2, 2))(x)\n",
        "    x = Conv2D(128, (3, 3), activation='relu')(x)\n",
        "    x = MaxPooling2D(pool_size=(2, 2))(x)\n",
        "\n",
        "    # Flatten the output and add a dense layer with ReLU activation.\n",
        "    x = Flatten()(x)\n",
        "    x = Dense(128, activation='relu')(x)\n",
        "\n",
        "    # Define output layers for severity and interior class predictions.\n",
        "    sev_classes = Dense(5, activation='softmax', name='sev_classes')(x)\n",
        "    int_classes = Dense(16, activation='sigmoid', name='int_classes')(x)\n",
        "\n",
        "    # Create the model with inputs and the two outputs.\n",
        "    model = Model(inputs=inputs, outputs=[sev_classes, int_classes])\n",
        "\n",
        "    return model\n",
        "\n",
        "# Instantiate and compile the model with specific loss functions for each output.\n",
        "model = create_model()\n",
        "model.compile(\n",
        "    optimizer='adam',\n",
        "    loss={'sev_classes': 'categorical_crossentropy',  # Loss function for severity classes.\n",
        "          'int_classes': 'binary_crossentropy'},     # Loss function for interior classes.\n",
        "    metrics={'sev_classes': ['accuracy'],            # Metrics to monitor for severity classes.\n",
        "             'int_classes': ['accuracy']}            # Metrics to monitor for interior classes.\n",
        ")\n",
        "\n",
        "# Train the model using the training images and their corresponding class labels.\n",
        "history = model.fit(\n",
        "    tensor_train_images,\n",
        "    [train_int_sev_classes_one_hot, train_int_locations_binary],  # Training targets.\n",
        "    batch_size=16,  # Size of the batches of data.\n",
        "    epochs=10       # Number of training epochs.\n",
        ")\n"
      ],
      "metadata": {
        "colab": {
          "base_uri": "https://localhost:8080/"
        },
        "id": "cE1zSv1Qhnd6",
        "outputId": "cd6774b3-d134-4832-fe28-0e9cd67d0b87"
      },
      "execution_count": 9,
      "outputs": [
        {
          "output_type": "stream",
          "name": "stdout",
          "text": [
            "Epoch 1/10\n",
            "4/4 [==============================] - 14s 253ms/step - loss: 40.0143 - sev_classes_loss: 36.2384 - int_classes_loss: 3.7759 - sev_classes_accuracy: 0.3281 - int_classes_accuracy: 0.1875\n",
            "Epoch 2/10\n",
            "4/4 [==============================] - 1s 254ms/step - loss: 3.9901 - sev_classes_loss: 3.4032 - int_classes_loss: 0.5869 - sev_classes_accuracy: 0.3750 - int_classes_accuracy: 0.2812\n",
            "Epoch 3/10\n",
            "4/4 [==============================] - 1s 252ms/step - loss: 1.4316 - sev_classes_loss: 1.0064 - int_classes_loss: 0.4252 - sev_classes_accuracy: 0.5938 - int_classes_accuracy: 0.2969\n",
            "Epoch 4/10\n",
            "4/4 [==============================] - 1s 257ms/step - loss: 1.1304 - sev_classes_loss: 0.8389 - int_classes_loss: 0.2915 - sev_classes_accuracy: 0.6875 - int_classes_accuracy: 0.3906\n",
            "Epoch 5/10\n",
            "4/4 [==============================] - 1s 252ms/step - loss: 0.5493 - sev_classes_loss: 0.2928 - int_classes_loss: 0.2565 - sev_classes_accuracy: 0.9062 - int_classes_accuracy: 0.3906\n",
            "Epoch 6/10\n",
            "4/4 [==============================] - 1s 253ms/step - loss: 0.5210 - sev_classes_loss: 0.2998 - int_classes_loss: 0.2212 - sev_classes_accuracy: 0.9062 - int_classes_accuracy: 0.3906\n",
            "Epoch 7/10\n",
            "4/4 [==============================] - 1s 251ms/step - loss: 0.3164 - sev_classes_loss: 0.1254 - int_classes_loss: 0.1910 - sev_classes_accuracy: 0.9844 - int_classes_accuracy: 0.3906\n",
            "Epoch 8/10\n",
            "4/4 [==============================] - 1s 251ms/step - loss: 0.3193 - sev_classes_loss: 0.1582 - int_classes_loss: 0.1611 - sev_classes_accuracy: 0.9219 - int_classes_accuracy: 0.3906\n",
            "Epoch 9/10\n",
            "4/4 [==============================] - 1s 252ms/step - loss: 0.2492 - sev_classes_loss: 0.1165 - int_classes_loss: 0.1327 - sev_classes_accuracy: 0.9844 - int_classes_accuracy: 0.3906\n",
            "Epoch 10/10\n",
            "4/4 [==============================] - 1s 251ms/step - loss: 0.3715 - sev_classes_loss: 0.2704 - int_classes_loss: 0.1012 - sev_classes_accuracy: 0.9375 - int_classes_accuracy: 0.3906\n"
          ]
        }
      ]
    },
    {
      "cell_type": "code",
      "source": [
        "# Save Model\n",
        "# model.save('/content/drive/MyDrive/Models/int_damage_and_severity_model.keras')"
      ],
      "metadata": {
        "id": "bF6DsJ15hqV3"
      },
      "execution_count": 10,
      "outputs": []
    },
    {
      "cell_type": "code",
      "source": [
        "# Display Model Summary\n",
        "# model.summary()"
      ],
      "metadata": {
        "id": "f7yGiQy8TanK"
      },
      "execution_count": 11,
      "outputs": []
    },
    {
      "cell_type": "code",
      "source": [
        "import matplotlib.pyplot as plt\n",
        "\n",
        "# Assume 'history' is the object returned by the 'fit' method of your model\n",
        "loss = history.history['loss']\n",
        "\n",
        "epochs = range(1, len(loss) + 1)\n",
        "\n",
        "# Plot training and validation loss as lines\n",
        "plt.figure()\n",
        "plt.plot(epochs, loss, 'b-', label='Training loss')  # 'b-' gives blue color with solid line\n",
        "plt.title('Training Loss')\n",
        "plt.xlabel('Epochs')\n",
        "plt.ylabel('Loss')\n",
        "plt.legend()\n",
        "\n",
        "plt.show()\n"
      ],
      "metadata": {
        "colab": {
          "base_uri": "https://localhost:8080/",
          "height": 472
        },
        "id": "SOxfUn1ApztY",
        "outputId": "ccbd24b9-b39f-45a9-ca8e-b73d84204e3e"
      },
      "execution_count": 12,
      "outputs": [
        {
          "output_type": "display_data",
          "data": {
            "text/plain": [
              "<Figure size 640x480 with 1 Axes>"
            ],
            "image/png": "[encoded data removed]"
          },
          "metadata": {}
        }
      ]
    }
  ]
}